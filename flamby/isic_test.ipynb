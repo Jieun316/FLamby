{
 "cells": [
  {
   "cell_type": "code",
   "execution_count": 2,
   "metadata": {},
   "outputs": [
    {
     "name": "stdout",
     "output_type": "stream",
     "text": [
      "Loaded pretrained weights for efficientnet-b0\n",
      "Number of features output by EfficientNet 1280\n"
     ]
    },
    {
     "name": "stderr",
     "output_type": "stream",
     "text": [
      "  0%|          | 0/1 [00:00<?, ?it/s]/home/dbswldms316/miniconda3/envs/flam/lib/python3.9/site-packages/sklearn/metrics/_classification.py:2446: UserWarning: y_pred contains classes not in y_true\n",
      "  warnings.warn(\"y_pred contains classes not in y_true\")\n",
      "100%|██████████| 1/1 [00:02<00:00,  2.86s/it]\n"
     ]
    },
    {
     "name": "stdout",
     "output_type": "stream",
     "text": [
      "{'client_test_0': 0.810666027453433}\n",
      "Loaded pretrained weights for efficientnet-b0\n",
      "Number of features output by EfficientNet 1280\n"
     ]
    },
    {
     "name": "stderr",
     "output_type": "stream",
     "text": [
      "100%|██████████| 1/1 [00:00<00:00,  1.48it/s]\n"
     ]
    },
    {
     "name": "stdout",
     "output_type": "stream",
     "text": [
      "{'client_test_0': 0.6645897354014431}\n",
      "Loaded pretrained weights for efficientnet-b0\n",
      "Number of features output by EfficientNet 1280\n"
     ]
    },
    {
     "name": "stderr",
     "output_type": "stream",
     "text": [
      "100%|██████████| 1/1 [00:00<00:00,  3.18it/s]\n"
     ]
    },
    {
     "name": "stdout",
     "output_type": "stream",
     "text": [
      "{'client_test_0': 0.6630591630591631}\n",
      "Loaded pretrained weights for efficientnet-b0\n",
      "Number of features output by EfficientNet 1280\n"
     ]
    },
    {
     "name": "stderr",
     "output_type": "stream",
     "text": [
      "  0%|          | 0/1 [00:00<?, ?it/s]/home/dbswldms316/miniconda3/envs/flam/lib/python3.9/site-packages/sklearn/metrics/_classification.py:2446: UserWarning: y_pred contains classes not in y_true\n",
      "  warnings.warn(\"y_pred contains classes not in y_true\")\n",
      "100%|██████████| 1/1 [00:00<00:00,  4.91it/s]"
     ]
    },
    {
     "name": "stdout",
     "output_type": "stream",
     "text": [
      "{'client_test_0': 0.41347597597597596}\n"
     ]
    },
    {
     "name": "stderr",
     "output_type": "stream",
     "text": [
      "\n"
     ]
    }
   ],
   "source": [
    "import sys\n",
    "sys.path.append('/home/dbswldms316/FLamby/')\n",
    "\n",
    "from flamby.datasets.fed_isic2019.dataset import Isic2019Raw, FedIsic2019\n",
    "\n",
    "mydataset_raw = Isic2019Raw()\n",
    "mydataset_pooled = FedIsic2019(train=True, pooled=True)\n",
    "\n",
    "from flamby.datasets.fed_isic2019 import (\n",
    "    BATCH_SIZE,\n",
    "    LR,\n",
    "    NUM_EPOCHS_POOLED,\n",
    "    Baseline,\n",
    "    BaselineLoss,\n",
    "    metric,\n",
    "    NUM_CLIENTS,\n",
    "    Optimizer,\n",
    ")\n",
    "\n",
    "import torch\n",
    "# Instantiation of local train set (and data loader)), baseline loss function, baseline model, default optimizer\n",
    "l=[0,1.2,3,4,5]\n",
    "for i in l:\n",
    "    train_dataset = FedIsic2019(center=i, train=True, pooled=False)\n",
    "    train_dataloader = torch.utils.data.DataLoader(train_dataset, batch_size=32, shuffle=True, num_workers=0)\n",
    "    lossfunc = BaselineLoss()\n",
    "    model = Baseline()\n",
    "    optimizer = Optimizer(model.parameters(), lr=LR)\n",
    "    \n",
    "    # Traditional pytorch training loop\n",
    "    for epoch in range(0, NUM_EPOCHS_POOLED):\n",
    "        for idx, (X, y) in enumerate(train_dataloader):\n",
    "            optimizer.zero_grad()\n",
    "            outputs = model(X)\n",
    "            loss = lossfunc(outputs, y)\n",
    "            loss.backward()\n",
    "            optimizer.step()\n",
    "        \n",
    "    # Evaluation\n",
    "    from flamby.utils import evaluate_model_on_tests\n",
    "    # Instantiation of a list of the local test sets\n",
    "    test_dataloaders = [\n",
    "                torch.utils.data.DataLoader(\n",
    "                    FedIsic2019(center=i, train=False, pooled=False),\n",
    "                    batch_size=BATCH_SIZE,\n",
    "                    shuffle=False,\n",
    "                    num_workers=0,\n",
    "                )\n",
    "                #for i in range(NUM_CLIENTS)\n",
    "            ]\n",
    "    # Function performing the evaluation\n",
    "    dict_cindex = evaluate_model_on_tests(model, test_dataloaders, metric)\n",
    "    print(dict_cindex)\n"
   ]
  },
  {
   "cell_type": "code",
   "execution_count": 4,
   "metadata": {},
   "outputs": [
    {
     "name": "stdout",
     "output_type": "stream",
     "text": [
      "9930\n",
      "3163\n",
      "2691\n",
      "1807\n",
      "655\n",
      "351\n"
     ]
    }
   ],
   "source": [
    "import sys\n",
    "sys.path.append('/home/dbswldms316/FLamby/')\n",
    "from flamby.datasets.fed_isic2019.dataset import Isic2019Raw, FedIsic2019\n",
    "import torch\n",
    "\n",
    "mydataset_raw = Isic2019Raw()\n",
    "mydataset_pooled = FedIsic2019(train=True, pooled=True)\n",
    "\n",
    "from flamby.datasets.fed_isic2019 import (\n",
    "    BATCH_SIZE,\n",
    "    LR,\n",
    "    NUM_EPOCHS_POOLED,\n",
    "    Baseline,\n",
    "    BaselineLoss,\n",
    "    metric,\n",
    "    NUM_CLIENTS,\n",
    "    Optimizer,\n",
    ")\n",
    "for i in [0,1,2,3,4,5]:\n",
    "    train_dataset = FedIsic2019(center=i, train=True, pooled=False)\n",
    "    train_dataloader = torch.utils.data.DataLoader(train_dataset, batch_size=32, shuffle=True, num_workers=0)\n",
    "    print(len(train_dataset))"
   ]
  },
  {
   "cell_type": "code",
   "execution_count": null,
   "metadata": {},
   "outputs": [],
   "source": []
  }
 ],
 "metadata": {
  "kernelspec": {
   "display_name": "Python 3",
   "language": "python",
   "name": "python3"
  },
  "language_info": {
   "codemirror_mode": {
    "name": "ipython",
    "version": 3
   },
   "file_extension": ".py",
   "mimetype": "text/x-python",
   "name": "python",
   "nbconvert_exporter": "python",
   "pygments_lexer": "ipython3",
   "version": "3.9.0"
  }
 },
 "nbformat": 4,
 "nbformat_minor": 2
}
